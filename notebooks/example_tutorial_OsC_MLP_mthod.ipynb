{
 "cells": [
  {
   "cell_type": "markdown",
   "metadata": {},
   "source": [
    "## Section 1. Libraries"
   ]
  },
  {
   "cell_type": "code",
   "execution_count": 1,
   "metadata": {},
   "outputs": [
    {
     "name": "stderr",
     "output_type": "stream",
     "text": [
      "c:\\Users\\javim\\miniconda3\\envs\\env_WR_CMLP_method\\lib\\site-packages\\tqdm\\auto.py:22: TqdmWarning: IProgress not found. Please update jupyter and ipywidgets. See https://ipywidgets.readthedocs.io/en/stable/user_install.html\n",
      "  from .autonotebook import tqdm as notebook_tqdm\n"
     ]
    }
   ],
   "source": [
    "import numpy\n",
    "import os\n",
    "import torch\n",
    "import time\n",
    "import sys\n",
    "\n",
    "sys.path.append(os.path.join(sys.path[0], '../'))\n",
    "\n",
    "from src.utils.load_data import load_data\n",
    "from src.OsC_MLP_model import OsC_MLP_model\n",
    "\n",
    "%load_ext autoreload\n",
    "%autoreload 2"
   ]
  },
  {
   "cell_type": "markdown",
   "metadata": {},
   "source": [
    "## Section 2. Load Data"
   ]
  },
  {
   "cell_type": "code",
   "execution_count": 2,
   "metadata": {},
   "outputs": [
    {
     "name": "stdout",
     "output_type": "stream",
     "text": [
      "\n",
      "[Process] START data loading\n",
      "[Data Info] Imbalance ratio (IR) = P0/P1 = N0/N1 || total: 4.0\t || tr: 4.0\t || ts: 4.0\n",
      "[Data Info] mean(1/Qc = (c01 - c11)/(c10 - c00)) || total: 6.37027030253223e+17\t || tr: 6.362073683868095e+17\t || ts: 6.394858474576271e+17\n",
      "[Data Info] shape: 34 dims for 38938 samples || Train/Test = 75/25 [%]\n",
      "[Process] DONE data loading\n"
     ]
    }
   ],
   "source": [
    "##### Load data #####\n",
    "name_dataset = 'CS2'\n",
    "path_data = \"../data/\"\n",
    "verbose = 1  # [0: no prints; 1: high level information]\n",
    "\n",
    "loaded_dataset = load_data(name_dataset=name_dataset,\n",
    "                           path_data=path_data,\n",
    "                           verbose=verbose)\n",
    "\n",
    "tensor_x_ts = loaded_dataset['tensor_x_ts']\n",
    "tensor_y_ts = loaded_dataset['tensor_y_ts']\n",
    "tensor_Cs01 = loaded_dataset['tensor_Cs01']\n",
    "tensor_Cs10 = loaded_dataset['tensor_Cs10']\n",
    "tensor_Cs11 = loaded_dataset['tensor_Cs11']\n",
    "tensor_Cs00 = loaded_dataset['tensor_Cs00']\n",
    "tensor_x_tr = loaded_dataset['tensor_x_tr']\n",
    "tensor_y_tr = loaded_dataset['tensor_y_tr']\n",
    "tensor_Cr01 = loaded_dataset['tensor_Cr01']\n",
    "tensor_Cr10 = loaded_dataset['tensor_Cr10']\n",
    "tensor_Cr11 = loaded_dataset['tensor_Cr11']\n",
    "tensor_Cr00 = loaded_dataset['tensor_Cr00']\n",
    "IR_tr = loaded_dataset['IR_tr']\n",
    "\n",
    "prob_0_tr = len(numpy.where(tensor_y_tr == -1)[0])\n",
    "prob_1_tr = len(numpy.where(tensor_y_tr ==  1)[0])\n",
    "\n",
    "pos0tr = tensor_y_tr == -1\n",
    "d0tr = tensor_Cr10.detach().numpy() - tensor_Cr00.detach().numpy()\n",
    "d1tr = tensor_Cr01.detach().numpy() - tensor_Cr11.detach().numpy()\n",
    "a1tr = numpy.mean(d1tr[~pos0tr])\n",
    "a0tr = numpy.mean(d0tr[pos0tr])\n",
    "sobrecoste_tr = numpy.mean(d1tr[~pos0tr]) / numpy.mean(d0tr[pos0tr]) \n",
    "\n",
    "ir_train = prob_0_tr/prob_1_tr\n",
    "ir_coste_tr = 1/sobrecoste_tr\n",
    "norm_cost_inTrain = a0tr/a1tr\n",
    "ir_total_tr    = ir_train * (ir_coste_tr/norm_cost_inTrain)\n",
    "#####################"
   ]
  },
  {
   "cell_type": "markdown",
   "metadata": {},
   "source": [
    "## Section 3. CMLP Method"
   ]
  },
  {
   "cell_type": "code",
   "execution_count": 3,
   "metadata": {},
   "outputs": [
    {
     "name": "stdout",
     "output_type": "stream",
     "text": [
      "\n",
      "\t-- Training Params --\n",
      "n_neurons   7\n",
      "epochs      17\n",
      "batch_size  20\n",
      "lr          0.0005\n",
      "momentum    0.6\n",
      "centered    False\n",
      "n_runs      3\n",
      "rebalance   4\n"
     ]
    }
   ],
   "source": [
    "#### Experiment params ####\n",
    "plot_fronterier = True\n",
    "plot_training = True\n",
    "# [Warining]: Just 3 runs on 1 train/test split for this notebook, but the original paper results\n",
    "# are computed for 100 independent train-test 75/25% splits with 100 runs on each split.\n",
    "number_of_runs = 3 \n",
    "###########################\n",
    "\n",
    "#### OsC-MLP params ####\n",
    "batch_size = 20\n",
    "epochs = 17\n",
    "lr = 0.0005\n",
    "momentum = 0.6\n",
    "centered = False\n",
    "n_neurons = 7\n",
    "rebalance = 4\n",
    "########################\n",
    "\n",
    "###### Print Variables ######\n",
    "print()\n",
    "print('\\t-- Training Params --')\n",
    "print('n_neurons  ', n_neurons)\n",
    "print('epochs     ', epochs)\n",
    "print('batch_size ', batch_size)\n",
    "print('lr         ', lr)\n",
    "print('momentum   ', momentum)\n",
    "print('centered   ', centered)\n",
    "print('n_runs     ', number_of_runs)\n",
    "print('rebalance  ', rebalance)\n",
    "#############################"
   ]
  },
  {
   "cell_type": "markdown",
   "metadata": {},
   "source": [
    "#### Section 3.1 Training CMLP Method"
   ]
  },
  {
   "cell_type": "code",
   "execution_count": 4,
   "metadata": {},
   "outputs": [
    {
     "name": "stdout",
     "output_type": "stream",
     "text": [
      "[INFO]: Run = 1 / 3\n",
      "[INFO]: Training\n"
     ]
    },
    {
     "name": "stderr",
     "output_type": "stream",
     "text": [
      "100%|██████████| 17/17 [00:29<00:00,  1.74s/it]\n",
      "c:\\Users\\javim\\Desktop\\INVESTIGACION\\OneStep\\repo_github\\WR-CMLP_Cost_Classification\\notebooks\\..\\src\\OsC_MLP_model.py:359: UserWarning: Matplotlib is currently using module://matplotlib_inline.backend_inline, which is a non-GUI backend, so cannot show the figure.\n",
      "  fig.show()\n"
     ]
    },
    {
     "name": "stdout",
     "output_type": "stream",
     "text": [
      "[INFO]: Run = 2 / 3\n",
      "[INFO]: Training\n"
     ]
    },
    {
     "name": "stderr",
     "output_type": "stream",
     "text": [
      " 47%|████▋     | 8/17 [00:15<00:17,  2.00s/it]\n"
     ]
    },
    {
     "ename": "KeyboardInterrupt",
     "evalue": "",
     "output_type": "error",
     "traceback": [
      "\u001b[1;31m---------------------------------------------------------------------------\u001b[0m",
      "\u001b[1;31mKeyboardInterrupt\u001b[0m                         Traceback (most recent call last)",
      "\u001b[1;32mc:\\Users\\javim\\Desktop\\INVESTIGACION\\OneStep\\repo_github\\WR-CMLP_Cost_Classification\\notebooks\\example_tutorial_OsC_MLP_mthod.ipynb Cell 8\u001b[0m line \u001b[0;36m2\n\u001b[0;32m     <a href='vscode-notebook-cell:/c%3A/Users/javim/Desktop/INVESTIGACION/OneStep/repo_github/WR-CMLP_Cost_Classification/notebooks/example_tutorial_OsC_MLP_mthod.ipynb#X10sZmlsZQ%3D%3D?line=23'>24</a>\u001b[0m \u001b[39m###################\u001b[39;00m\n\u001b[0;32m     <a href='vscode-notebook-cell:/c%3A/Users/javim/Desktop/INVESTIGACION/OneStep/repo_github/WR-CMLP_Cost_Classification/notebooks/example_tutorial_OsC_MLP_mthod.ipynb#X10sZmlsZQ%3D%3D?line=24'>25</a>\u001b[0m \n\u001b[0;32m     <a href='vscode-notebook-cell:/c%3A/Users/javim/Desktop/INVESTIGACION/OneStep/repo_github/WR-CMLP_Cost_Classification/notebooks/example_tutorial_OsC_MLP_mthod.ipynb#X10sZmlsZQ%3D%3D?line=25'>26</a>\u001b[0m \u001b[39m## Training ##\u001b[39;00m\n\u001b[0;32m     <a href='vscode-notebook-cell:/c%3A/Users/javim/Desktop/INVESTIGACION/OneStep/repo_github/WR-CMLP_Cost_Classification/notebooks/example_tutorial_OsC_MLP_mthod.ipynb#X10sZmlsZQ%3D%3D?line=26'>27</a>\u001b[0m \u001b[39mprint\u001b[39m(\u001b[39mf\u001b[39m\u001b[39m\"\u001b[39m\u001b[39m[INFO]: Training\u001b[39m\u001b[39m\"\u001b[39m)\n\u001b[1;32m---> <a href='vscode-notebook-cell:/c%3A/Users/javim/Desktop/INVESTIGACION/OneStep/repo_github/WR-CMLP_Cost_Classification/notebooks/example_tutorial_OsC_MLP_mthod.ipynb#X10sZmlsZQ%3D%3D?line=27'>28</a>\u001b[0m results_training \u001b[39m=\u001b[39m model_osc_mlp\u001b[39m.\u001b[39;49mtrain_discriminator(optimizer\u001b[39m=\u001b[39;49mRMSprop_optim,\n\u001b[0;32m     <a href='vscode-notebook-cell:/c%3A/Users/javim/Desktop/INVESTIGACION/OneStep/repo_github/WR-CMLP_Cost_Classification/notebooks/example_tutorial_OsC_MLP_mthod.ipynb#X10sZmlsZQ%3D%3D?line=28'>29</a>\u001b[0m                                                      criterion\u001b[39m=\u001b[39;49mloss,\n\u001b[0;32m     <a href='vscode-notebook-cell:/c%3A/Users/javim/Desktop/INVESTIGACION/OneStep/repo_github/WR-CMLP_Cost_Classification/notebooks/example_tutorial_OsC_MLP_mthod.ipynb#X10sZmlsZQ%3D%3D?line=29'>30</a>\u001b[0m                                                      num_epochs\u001b[39m=\u001b[39;49mepochs,\n\u001b[0;32m     <a href='vscode-notebook-cell:/c%3A/Users/javim/Desktop/INVESTIGACION/OneStep/repo_github/WR-CMLP_Cost_Classification/notebooks/example_tutorial_OsC_MLP_mthod.ipynb#X10sZmlsZQ%3D%3D?line=30'>31</a>\u001b[0m                                                      batch_size\u001b[39m=\u001b[39;49mbatch_size,\n\u001b[0;32m     <a href='vscode-notebook-cell:/c%3A/Users/javim/Desktop/INVESTIGACION/OneStep/repo_github/WR-CMLP_Cost_Classification/notebooks/example_tutorial_OsC_MLP_mthod.ipynb#X10sZmlsZQ%3D%3D?line=31'>32</a>\u001b[0m                                                      inputs_train\u001b[39m=\u001b[39;49mtensor_x_tr,\n\u001b[0;32m     <a href='vscode-notebook-cell:/c%3A/Users/javim/Desktop/INVESTIGACION/OneStep/repo_github/WR-CMLP_Cost_Classification/notebooks/example_tutorial_OsC_MLP_mthod.ipynb#X10sZmlsZQ%3D%3D?line=32'>33</a>\u001b[0m                                                      labels_train\u001b[39m=\u001b[39;49mtensor_y_tr,\n\u001b[0;32m     <a href='vscode-notebook-cell:/c%3A/Users/javim/Desktop/INVESTIGACION/OneStep/repo_github/WR-CMLP_Cost_Classification/notebooks/example_tutorial_OsC_MLP_mthod.ipynb#X10sZmlsZQ%3D%3D?line=33'>34</a>\u001b[0m                                                      inputs_test\u001b[39m=\u001b[39;49mtensor_x_ts,\n\u001b[0;32m     <a href='vscode-notebook-cell:/c%3A/Users/javim/Desktop/INVESTIGACION/OneStep/repo_github/WR-CMLP_Cost_Classification/notebooks/example_tutorial_OsC_MLP_mthod.ipynb#X10sZmlsZQ%3D%3D?line=34'>35</a>\u001b[0m                                                      labels_test\u001b[39m=\u001b[39;49mtensor_y_ts,\n\u001b[0;32m     <a href='vscode-notebook-cell:/c%3A/Users/javim/Desktop/INVESTIGACION/OneStep/repo_github/WR-CMLP_Cost_Classification/notebooks/example_tutorial_OsC_MLP_mthod.ipynb#X10sZmlsZQ%3D%3D?line=35'>36</a>\u001b[0m                                                      cr01\u001b[39m=\u001b[39;49mtensor_Cr01,\n\u001b[0;32m     <a href='vscode-notebook-cell:/c%3A/Users/javim/Desktop/INVESTIGACION/OneStep/repo_github/WR-CMLP_Cost_Classification/notebooks/example_tutorial_OsC_MLP_mthod.ipynb#X10sZmlsZQ%3D%3D?line=36'>37</a>\u001b[0m                                                      cr10\u001b[39m=\u001b[39;49mtensor_Cr10,\n\u001b[0;32m     <a href='vscode-notebook-cell:/c%3A/Users/javim/Desktop/INVESTIGACION/OneStep/repo_github/WR-CMLP_Cost_Classification/notebooks/example_tutorial_OsC_MLP_mthod.ipynb#X10sZmlsZQ%3D%3D?line=37'>38</a>\u001b[0m                                                      cr00\u001b[39m=\u001b[39;49mtensor_Cr00,\n\u001b[0;32m     <a href='vscode-notebook-cell:/c%3A/Users/javim/Desktop/INVESTIGACION/OneStep/repo_github/WR-CMLP_Cost_Classification/notebooks/example_tutorial_OsC_MLP_mthod.ipynb#X10sZmlsZQ%3D%3D?line=38'>39</a>\u001b[0m                                                      cr11\u001b[39m=\u001b[39;49mtensor_Cr11,\n\u001b[0;32m     <a href='vscode-notebook-cell:/c%3A/Users/javim/Desktop/INVESTIGACION/OneStep/repo_github/WR-CMLP_Cost_Classification/notebooks/example_tutorial_OsC_MLP_mthod.ipynb#X10sZmlsZQ%3D%3D?line=39'>40</a>\u001b[0m                                                      cs01\u001b[39m=\u001b[39;49mtensor_Cs01,\n\u001b[0;32m     <a href='vscode-notebook-cell:/c%3A/Users/javim/Desktop/INVESTIGACION/OneStep/repo_github/WR-CMLP_Cost_Classification/notebooks/example_tutorial_OsC_MLP_mthod.ipynb#X10sZmlsZQ%3D%3D?line=40'>41</a>\u001b[0m                                                      cs10\u001b[39m=\u001b[39;49mtensor_Cs10,\n\u001b[0;32m     <a href='vscode-notebook-cell:/c%3A/Users/javim/Desktop/INVESTIGACION/OneStep/repo_github/WR-CMLP_Cost_Classification/notebooks/example_tutorial_OsC_MLP_mthod.ipynb#X10sZmlsZQ%3D%3D?line=41'>42</a>\u001b[0m                                                      cs00\u001b[39m=\u001b[39;49mtensor_Cs00,\n\u001b[0;32m     <a href='vscode-notebook-cell:/c%3A/Users/javim/Desktop/INVESTIGACION/OneStep/repo_github/WR-CMLP_Cost_Classification/notebooks/example_tutorial_OsC_MLP_mthod.ipynb#X10sZmlsZQ%3D%3D?line=42'>43</a>\u001b[0m                                                      cs11\u001b[39m=\u001b[39;49mtensor_Cs11,\n\u001b[0;32m     <a href='vscode-notebook-cell:/c%3A/Users/javim/Desktop/INVESTIGACION/OneStep/repo_github/WR-CMLP_Cost_Classification/notebooks/example_tutorial_OsC_MLP_mthod.ipynb#X10sZmlsZQ%3D%3D?line=43'>44</a>\u001b[0m                                                      ir_objetive\u001b[39m=\u001b[39;49mir_total_tr\u001b[39m/\u001b[39;49mrebalance,\n\u001b[0;32m     <a href='vscode-notebook-cell:/c%3A/Users/javim/Desktop/INVESTIGACION/OneStep/repo_github/WR-CMLP_Cost_Classification/notebooks/example_tutorial_OsC_MLP_mthod.ipynb#X10sZmlsZQ%3D%3D?line=44'>45</a>\u001b[0m                                                      ir_original\u001b[39m=\u001b[39;49mir_total_tr,\n\u001b[0;32m     <a href='vscode-notebook-cell:/c%3A/Users/javim/Desktop/INVESTIGACION/OneStep/repo_github/WR-CMLP_Cost_Classification/notebooks/example_tutorial_OsC_MLP_mthod.ipynb#X10sZmlsZQ%3D%3D?line=45'>46</a>\u001b[0m                                                      figure\u001b[39m=\u001b[39;49mplot_training,\n\u001b[0;32m     <a href='vscode-notebook-cell:/c%3A/Users/javim/Desktop/INVESTIGACION/OneStep/repo_github/WR-CMLP_Cost_Classification/notebooks/example_tutorial_OsC_MLP_mthod.ipynb#X10sZmlsZQ%3D%3D?line=46'>47</a>\u001b[0m                                                      metrics\u001b[39m=\u001b[39;49m\u001b[39mTrue\u001b[39;49;00m,\n\u001b[0;32m     <a href='vscode-notebook-cell:/c%3A/Users/javim/Desktop/INVESTIGACION/OneStep/repo_github/WR-CMLP_Cost_Classification/notebooks/example_tutorial_OsC_MLP_mthod.ipynb#X10sZmlsZQ%3D%3D?line=47'>48</a>\u001b[0m                                                      )\n\u001b[0;32m     <a href='vscode-notebook-cell:/c%3A/Users/javim/Desktop/INVESTIGACION/OneStep/repo_github/WR-CMLP_Cost_Classification/notebooks/example_tutorial_OsC_MLP_mthod.ipynb#X10sZmlsZQ%3D%3D?line=49'>50</a>\u001b[0m loss_tr_onFly \u001b[39m=\u001b[39m results_training[\u001b[39m'\u001b[39m\u001b[39mloss_train\u001b[39m\u001b[39m'\u001b[39m]\n\u001b[0;32m     <a href='vscode-notebook-cell:/c%3A/Users/javim/Desktop/INVESTIGACION/OneStep/repo_github/WR-CMLP_Cost_Classification/notebooks/example_tutorial_OsC_MLP_mthod.ipynb#X10sZmlsZQ%3D%3D?line=50'>51</a>\u001b[0m loss_ts__onFly \u001b[39m=\u001b[39m results_training[\u001b[39m'\u001b[39m\u001b[39mloss_test\u001b[39m\u001b[39m'\u001b[39m]\n",
      "File \u001b[1;32mc:\\Users\\javim\\Desktop\\INVESTIGACION\\OneStep\\repo_github\\WR-CMLP_Cost_Classification\\notebooks\\..\\src\\OsC_MLP_model.py:295\u001b[0m, in \u001b[0;36mOsC_MLP_model.train_discriminator\u001b[1;34m(self, optimizer, criterion, num_epochs, batch_size, inputs_train, labels_train, inputs_test, labels_test, cr01, cr10, cr00, cr11, cs01, cs10, cs00, cs11, ir_objetive, ir_original, figure, metrics)\u001b[0m\n\u001b[0;32m    290\u001b[0m     loss \u001b[39m=\u001b[39m criterion(model_output\u001b[39m=\u001b[39moutputs\u001b[39m.\u001b[39mdouble(),\n\u001b[0;32m    291\u001b[0m                      target\u001b[39m=\u001b[39mlabels_fold\u001b[39m.\u001b[39mview(\u001b[39mlen\u001b[39m(outputs), \u001b[39m1\u001b[39m)\u001b[39m.\u001b[39mdouble(),\n\u001b[0;32m    292\u001b[0m                      alpha_cost\u001b[39m=\u001b[39mtrain_alphas_cost\u001b[39m.\u001b[39mdouble(),\n\u001b[0;32m    293\u001b[0m                      alpha_RB\u001b[39m=\u001b[39mtrain_alphas_RB\u001b[39m.\u001b[39mdouble())\n\u001b[0;32m    294\u001b[0m     loss\u001b[39m.\u001b[39mbackward()\n\u001b[1;32m--> 295\u001b[0m     optimizer\u001b[39m.\u001b[39;49mstep()\n\u001b[0;32m    297\u001b[0m \u001b[39mif\u001b[39;00m metrics \u001b[39mis\u001b[39;00m \u001b[39mTrue\u001b[39;00m:\n\u001b[0;32m    299\u001b[0m     inputs_train_epoch \u001b[39m=\u001b[39m inputs_train\u001b[39m.\u001b[39mfloat()\n",
      "File \u001b[1;32mc:\\Users\\javim\\miniconda3\\envs\\env_WR_CMLP_method\\lib\\site-packages\\torch\\optim\\optimizer.py:140\u001b[0m, in \u001b[0;36mOptimizer._hook_for_profile.<locals>.profile_hook_step.<locals>.wrapper\u001b[1;34m(*args, **kwargs)\u001b[0m\n\u001b[0;32m    138\u001b[0m profile_name \u001b[39m=\u001b[39m \u001b[39m\"\u001b[39m\u001b[39mOptimizer.step#\u001b[39m\u001b[39m{}\u001b[39;00m\u001b[39m.step\u001b[39m\u001b[39m\"\u001b[39m\u001b[39m.\u001b[39mformat(obj\u001b[39m.\u001b[39m\u001b[39m__class__\u001b[39m\u001b[39m.\u001b[39m\u001b[39m__name__\u001b[39m)\n\u001b[0;32m    139\u001b[0m \u001b[39mwith\u001b[39;00m torch\u001b[39m.\u001b[39mautograd\u001b[39m.\u001b[39mprofiler\u001b[39m.\u001b[39mrecord_function(profile_name):\n\u001b[1;32m--> 140\u001b[0m     out \u001b[39m=\u001b[39m func(\u001b[39m*\u001b[39;49margs, \u001b[39m*\u001b[39;49m\u001b[39m*\u001b[39;49mkwargs)\n\u001b[0;32m    141\u001b[0m     obj\u001b[39m.\u001b[39m_optimizer_step_code()\n\u001b[0;32m    142\u001b[0m     \u001b[39mreturn\u001b[39;00m out\n",
      "File \u001b[1;32mc:\\Users\\javim\\miniconda3\\envs\\env_WR_CMLP_method\\lib\\site-packages\\torch\\optim\\optimizer.py:23\u001b[0m, in \u001b[0;36m_use_grad_for_differentiable.<locals>._use_grad\u001b[1;34m(self, *args, **kwargs)\u001b[0m\n\u001b[0;32m     21\u001b[0m \u001b[39mtry\u001b[39;00m:\n\u001b[0;32m     22\u001b[0m     torch\u001b[39m.\u001b[39mset_grad_enabled(\u001b[39mself\u001b[39m\u001b[39m.\u001b[39mdefaults[\u001b[39m'\u001b[39m\u001b[39mdifferentiable\u001b[39m\u001b[39m'\u001b[39m])\n\u001b[1;32m---> 23\u001b[0m     ret \u001b[39m=\u001b[39m func(\u001b[39mself\u001b[39;49m, \u001b[39m*\u001b[39;49margs, \u001b[39m*\u001b[39;49m\u001b[39m*\u001b[39;49mkwargs)\n\u001b[0;32m     24\u001b[0m \u001b[39mfinally\u001b[39;00m:\n\u001b[0;32m     25\u001b[0m     torch\u001b[39m.\u001b[39mset_grad_enabled(prev_grad)\n",
      "File \u001b[1;32mc:\\Users\\javim\\miniconda3\\envs\\env_WR_CMLP_method\\lib\\site-packages\\torch\\optim\\rmsprop.py:150\u001b[0m, in \u001b[0;36mRMSprop.step\u001b[1;34m(self, closure)\u001b[0m\n\u001b[0;32m    145\u001b[0m             \u001b[39mraise\u001b[39;00m \u001b[39mRuntimeError\u001b[39;00m(\u001b[39m'\u001b[39m\u001b[39m`step` can\u001b[39m\u001b[39m\\'\u001b[39;00m\u001b[39mt be a tensor\u001b[39m\u001b[39m'\u001b[39m)\n\u001b[0;32m    147\u001b[0m         state[\u001b[39m'\u001b[39m\u001b[39mstep\u001b[39m\u001b[39m'\u001b[39m] \u001b[39m+\u001b[39m\u001b[39m=\u001b[39m \u001b[39m1\u001b[39m\n\u001b[1;32m--> 150\u001b[0m     rmsprop(params_with_grad,\n\u001b[0;32m    151\u001b[0m             grads,\n\u001b[0;32m    152\u001b[0m             square_avgs,\n\u001b[0;32m    153\u001b[0m             grad_avgs,\n\u001b[0;32m    154\u001b[0m             momentum_buffer_list,\n\u001b[0;32m    155\u001b[0m             lr\u001b[39m=\u001b[39;49mgroup[\u001b[39m'\u001b[39;49m\u001b[39mlr\u001b[39;49m\u001b[39m'\u001b[39;49m],\n\u001b[0;32m    156\u001b[0m             alpha\u001b[39m=\u001b[39;49mgroup[\u001b[39m'\u001b[39;49m\u001b[39malpha\u001b[39;49m\u001b[39m'\u001b[39;49m],\n\u001b[0;32m    157\u001b[0m             eps\u001b[39m=\u001b[39;49mgroup[\u001b[39m'\u001b[39;49m\u001b[39meps\u001b[39;49m\u001b[39m'\u001b[39;49m],\n\u001b[0;32m    158\u001b[0m             weight_decay\u001b[39m=\u001b[39;49mgroup[\u001b[39m'\u001b[39;49m\u001b[39mweight_decay\u001b[39;49m\u001b[39m'\u001b[39;49m],\n\u001b[0;32m    159\u001b[0m             momentum\u001b[39m=\u001b[39;49mgroup[\u001b[39m'\u001b[39;49m\u001b[39mmomentum\u001b[39;49m\u001b[39m'\u001b[39;49m],\n\u001b[0;32m    160\u001b[0m             centered\u001b[39m=\u001b[39;49mgroup[\u001b[39m'\u001b[39;49m\u001b[39mcentered\u001b[39;49m\u001b[39m'\u001b[39;49m],\n\u001b[0;32m    161\u001b[0m             foreach\u001b[39m=\u001b[39;49mgroup[\u001b[39m'\u001b[39;49m\u001b[39mforeach\u001b[39;49m\u001b[39m'\u001b[39;49m],\n\u001b[0;32m    162\u001b[0m             maximize\u001b[39m=\u001b[39;49mgroup[\u001b[39m\"\u001b[39;49m\u001b[39mmaximize\u001b[39;49m\u001b[39m\"\u001b[39;49m],\n\u001b[0;32m    163\u001b[0m             differentiable\u001b[39m=\u001b[39;49mgroup[\u001b[39m\"\u001b[39;49m\u001b[39mdifferentiable\u001b[39;49m\u001b[39m\"\u001b[39;49m])\n\u001b[0;32m    165\u001b[0m \u001b[39mreturn\u001b[39;00m loss\n",
      "File \u001b[1;32mc:\\Users\\javim\\miniconda3\\envs\\env_WR_CMLP_method\\lib\\site-packages\\torch\\optim\\rmsprop.py:201\u001b[0m, in \u001b[0;36mrmsprop\u001b[1;34m(params, grads, square_avgs, grad_avgs, momentum_buffer_list, foreach, maximize, differentiable, lr, alpha, eps, weight_decay, momentum, centered)\u001b[0m\n\u001b[0;32m    198\u001b[0m \u001b[39melse\u001b[39;00m:\n\u001b[0;32m    199\u001b[0m     func \u001b[39m=\u001b[39m _single_tensor_rmsprop\n\u001b[1;32m--> 201\u001b[0m func(params,\n\u001b[0;32m    202\u001b[0m      grads,\n\u001b[0;32m    203\u001b[0m      square_avgs,\n\u001b[0;32m    204\u001b[0m      grad_avgs,\n\u001b[0;32m    205\u001b[0m      momentum_buffer_list,\n\u001b[0;32m    206\u001b[0m      lr\u001b[39m=\u001b[39;49mlr,\n\u001b[0;32m    207\u001b[0m      alpha\u001b[39m=\u001b[39;49malpha,\n\u001b[0;32m    208\u001b[0m      eps\u001b[39m=\u001b[39;49meps,\n\u001b[0;32m    209\u001b[0m      weight_decay\u001b[39m=\u001b[39;49mweight_decay,\n\u001b[0;32m    210\u001b[0m      momentum\u001b[39m=\u001b[39;49mmomentum,\n\u001b[0;32m    211\u001b[0m      centered\u001b[39m=\u001b[39;49mcentered,\n\u001b[0;32m    212\u001b[0m      maximize\u001b[39m=\u001b[39;49mmaximize,\n\u001b[0;32m    213\u001b[0m      differentiable\u001b[39m=\u001b[39;49mdifferentiable)\n",
      "File \u001b[1;32mc:\\Users\\javim\\miniconda3\\envs\\env_WR_CMLP_method\\lib\\site-packages\\torch\\optim\\rmsprop.py:254\u001b[0m, in \u001b[0;36m_single_tensor_rmsprop\u001b[1;34m(params, grads, square_avgs, grad_avgs, momentum_buffer_list, lr, alpha, eps, weight_decay, momentum, centered, maximize, differentiable)\u001b[0m\n\u001b[0;32m    252\u001b[0m     avg \u001b[39m=\u001b[39m square_avg\u001b[39m.\u001b[39maddcmul(grad_avg, grad_avg, value\u001b[39m=\u001b[39m\u001b[39m-\u001b[39m\u001b[39m1\u001b[39m)\u001b[39m.\u001b[39msqrt_()\n\u001b[0;32m    253\u001b[0m \u001b[39melse\u001b[39;00m:\n\u001b[1;32m--> 254\u001b[0m     avg \u001b[39m=\u001b[39m square_avg\u001b[39m.\u001b[39;49msqrt()\n\u001b[0;32m    256\u001b[0m \u001b[39mif\u001b[39;00m differentiable:\n\u001b[0;32m    257\u001b[0m     avg \u001b[39m=\u001b[39m avg\u001b[39m.\u001b[39madd(eps)\n",
      "\u001b[1;31mKeyboardInterrupt\u001b[0m: "
     ]
    },
    {
     "data": {
      "image/png": "[encoded data removed]",
      "text/plain": [
       "<Figure size 800x400 with 2 Axes>"
      ]
     },
     "metadata": {},
     "output_type": "display_data"
    }
   ],
   "source": [
    "coste_final_tr = []\n",
    "saving_final_tr = []\n",
    "acc_final_step_tr = []\n",
    "coste_final_ts = []\n",
    "saving_final_ts = []\n",
    "acc_final_step_ts = []\n",
    "\n",
    "init_time = time.time()\n",
    "for ii_run in range(number_of_runs):\n",
    "\n",
    "    print(f\"[INFO]: Run = {ii_run + 1} / {number_of_runs}\")\n",
    "\n",
    "    ## MODEL ##\n",
    "    model_osc_mlp = None\n",
    "    model_osc_mlp = OsC_MLP_model(input_size=len(tensor_x_tr[1,:]), hidden_size=n_neurons)\n",
    "    ###########\n",
    "\n",
    "    ## Optimizer ##\n",
    "    RMSprop_optim = torch.optim.RMSprop(model_osc_mlp.parameters(), lr=lr, momentum=momentum, centered=centered)\n",
    "    ###############\n",
    "\n",
    "    ## Loss function ##\n",
    "    loss = model_osc_mlp.weighted_cost_norm_mse_loss\n",
    "    ###################\n",
    "\n",
    "    ## Training ##\n",
    "    print(f\"[INFO]: Training\")\n",
    "    results_training = model_osc_mlp.train_discriminator(optimizer=RMSprop_optim,\n",
    "                                                         criterion=loss,\n",
    "                                                         num_epochs=epochs,\n",
    "                                                         batch_size=batch_size,\n",
    "                                                         inputs_train=tensor_x_tr,\n",
    "                                                         labels_train=tensor_y_tr,\n",
    "                                                         inputs_test=tensor_x_ts,\n",
    "                                                         labels_test=tensor_y_ts,\n",
    "                                                         cr01=tensor_Cr01,\n",
    "                                                         cr10=tensor_Cr10,\n",
    "                                                         cr00=tensor_Cr00,\n",
    "                                                         cr11=tensor_Cr11,\n",
    "                                                         cs01=tensor_Cs01,\n",
    "                                                         cs10=tensor_Cs10,\n",
    "                                                         cs00=tensor_Cs00,\n",
    "                                                         cs11=tensor_Cs11,\n",
    "                                                         ir_objetive=ir_total_tr/rebalance,\n",
    "                                                         ir_original=ir_total_tr,\n",
    "                                                         figure=plot_training,\n",
    "                                                         metrics=True,\n",
    "                                                         )\n",
    "\n",
    "    loss_tr_onFly = results_training['loss_train']\n",
    "    loss_ts__onFly = results_training['loss_test']\n",
    "    saving_tr_onFly = results_training['saving_train']\n",
    "    saving_ts_onFly = results_training['saving_test']\n",
    "    ##############\n",
    "\n",
    "    ######## Metrics ########\n",
    "    results_tr = model_osc_mlp.metrics(x_input=tensor_x_tr,\n",
    "                                       target_class=tensor_y_tr,\n",
    "                                       c01=tensor_Cr01,\n",
    "                                       c10=tensor_Cr10,\n",
    "                                       rebalance=rebalance)\n",
    "    coste_final_tr.append(results_tr['coste_final'])\n",
    "    saving_final_tr.append(results_tr['saving_final'])\n",
    "    acc_final_step_tr.append(results_tr['accuracy'])\n",
    "\n",
    "    results_ts = model_osc_mlp.metrics(x_input=tensor_x_ts,\n",
    "                                       target_class=tensor_y_ts,\n",
    "                                       c01=tensor_Cs01,\n",
    "                                       c10=tensor_Cs10,\n",
    "                                       rebalance=rebalance)\n",
    "    coste_final_ts.append(results_ts['coste_final'])\n",
    "    saving_final_ts.append(results_ts['saving_final'])\n",
    "    acc_final_step_ts.append(results_ts['accuracy'])\n",
    "    #########################\n",
    "\n",
    "\n",
    "end_time = time.time()\n",
    "print(f'[INFO]: Total execution time -> {numpy.round((end_time-init_time)/60, 2)} mins', )\n",
    "\n",
    "print()\n",
    "print('___________________________________________________________')\n",
    "print('Final results Train')\n",
    "print(f'\\t accuracy     -> {numpy.round(numpy.mean(acc_final_step_tr), 2)} std {numpy.round(numpy.std(acc_final_step_tr), 2)}')\n",
    "print(f'\\t Savings      -> {numpy.round(numpy.mean(saving_final_tr) * 100, 2)} std {numpy.round(numpy.std(saving_final_tr) * 100, 2)}')\n",
    "print(f'\\t Cost         -> {numpy.round(numpy.mean(coste_final_tr), 2)} std {numpy.round(numpy.std(coste_final_tr), 2)}')\n",
    "\n",
    "print()\n",
    "print()\n",
    "print('Final results Test')\n",
    "print(f'\\t accuracy     -> {numpy.round(numpy.mean(acc_final_step_ts), 2)} std {numpy.round(numpy.std(acc_final_step_ts), 2)}')\n",
    "print(f'\\t Savings      -> {numpy.round(numpy.mean(saving_final_ts) * 100, 2)} std {numpy.round(numpy.std(saving_final_ts) * 100, 2)}')\n",
    "print(f'\\t Cost         -> {numpy.round(numpy.mean(coste_final_ts), 2)} std {numpy.round(numpy.std(coste_final_ts), 2)}')\n",
    "print('___________________________________________________________')\n",
    "\n",
    "print(f'[INFO]: End', )"
   ]
  },
  {
   "cell_type": "markdown",
   "metadata": {},
   "source": [
    "#### Section 3.1 Compute model output with OsC-MLP Method"
   ]
  },
  {
   "cell_type": "code",
   "execution_count": 7,
   "metadata": {},
   "outputs": [
    {
     "data": {
      "text/plain": [
       "array([ 0.4497089 ,  0.579252  ,  0.2977543 , ...,  0.26682782,\n",
       "        0.9372551 , -0.11785536], dtype=float32)"
      ]
     },
     "execution_count": 7,
     "metadata": {},
     "output_type": "execute_result"
    }
   ],
   "source": [
    "output_train = model_osc_mlp.forward(tensor_x_tr.float()) # Outputs of the NN model, but not deccions\n",
    "output_train_numpy = output_train.detach().flatten().numpy()\n",
    "output_train_numpy"
   ]
  },
  {
   "cell_type": "markdown",
   "metadata": {},
   "source": [
    "#### Section 3.1 Predict the class with CMLP Method"
   ]
  },
  {
   "cell_type": "code",
   "execution_count": 8,
   "metadata": {},
   "outputs": [
    {
     "data": {
      "text/plain": [
       "array([ 1.,  1.,  1., ..., -1.,  1., -1.])"
      ]
     },
     "execution_count": 8,
     "metadata": {},
     "output_type": "execute_result"
    }
   ],
   "source": [
    "ir_objetive = ir_train / rebalance\n",
    "y_pred_train = model_osc_mlp.predict_class(output_train, q_neutral=ir_train/ir_objetive) # Costs Decissions in [-1, +1]\n",
    "y_pred_train_numpy = y_pred_train.detach().flatten().numpy()\n",
    "y_pred_train_numpy"
   ]
  },
  {
   "cell_type": "code",
   "execution_count": null,
   "metadata": {},
   "outputs": [],
   "source": []
  }
 ],
 "metadata": {
  "kernelspec": {
   "display_name": "Python 3",
   "language": "python",
   "name": "python3"
  },
  "language_info": {
   "codemirror_mode": {
    "name": "ipython",
    "version": 3
   },
   "file_extension": ".py",
   "mimetype": "text/x-python",
   "name": "python",
   "nbconvert_exporter": "python",
   "pygments_lexer": "ipython3",
   "version": "3.8.13"
  }
 },
 "nbformat": 4,
 "nbformat_minor": 2
}
