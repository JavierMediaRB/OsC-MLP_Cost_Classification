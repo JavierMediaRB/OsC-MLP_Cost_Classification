{
 "cells": [
  {
   "cell_type": "markdown",
   "metadata": {},
   "source": [
    "## Section 1. Libraries"
   ]
  },
  {
   "cell_type": "code",
   "execution_count": 1,
   "metadata": {},
   "outputs": [
    {
     "name": "stderr",
     "output_type": "stream",
     "text": [
      "c:\\Users\\javim\\miniconda3\\envs\\env_WR_CMLP_method\\lib\\site-packages\\tqdm\\auto.py:22: TqdmWarning: IProgress not found. Please update jupyter and ipywidgets. See https://ipywidgets.readthedocs.io/en/stable/user_install.html\n",
      "  from .autonotebook import tqdm as notebook_tqdm\n"
     ]
    }
   ],
   "source": [
    "import numpy\n",
    "import os\n",
    "import torch\n",
    "import time\n",
    "import sys\n",
    "\n",
    "sys.path.append(os.path.join(sys.path[0], '../'))\n",
    "\n",
    "from src.utils.load_data import load_data\n",
    "from src.WR_CMLP_model import WR_CMLP_model\n",
    "\n",
    "%load_ext autoreload\n",
    "%autoreload 2"
   ]
  },
  {
   "cell_type": "markdown",
   "metadata": {},
   "source": [
    "## Section 2. Load Data"
   ]
  },
  {
   "cell_type": "code",
   "execution_count": 8,
   "metadata": {},
   "outputs": [
    {
     "name": "stdout",
     "output_type": "stream",
     "text": [
      "\n",
      "[Process] START data loading\n",
      "[Data Info] Imbalance ratio (IR) = P0/P1 = N0/N1 || total: 4.0\t || tr: 4.0\t || ts: 4.0\n",
      "[Data Info] mean(1/Qc = (c01 - c11)/(c10 - c00)) || total: 6.37027030253223e+17\t || tr: 6.362073683868095e+17\t || ts: 6.394858474576271e+17\n",
      "[Data Info] shape: 34 dims for 38938 samples || Train/Test = 75/25 [%]\n",
      "[Process] DONE data loading\n"
     ]
    }
   ],
   "source": [
    "##### Load data #####\n",
    "name_dataset = 'CS2'\n",
    "path_data = \"../data/\"\n",
    "verbose = 1  # [0: no prints; 1: high level information]\n",
    "\n",
    "loaded_dataset = load_data(name_dataset=name_dataset,\n",
    "                           path_data=path_data,\n",
    "                           verbose=verbose)\n",
    "\n",
    "tensor_x_ts = loaded_dataset['tensor_x_ts']\n",
    "tensor_y_ts = loaded_dataset['tensor_y_ts']\n",
    "tensor_Cs01 = loaded_dataset['tensor_Cs01']\n",
    "tensor_Cs10 = loaded_dataset['tensor_Cs10']\n",
    "tensor_Cs11 = loaded_dataset['tensor_Cs11']\n",
    "tensor_Cs00 = loaded_dataset['tensor_Cs00']\n",
    "tensor_x_tr = loaded_dataset['tensor_x_tr']\n",
    "tensor_y_tr = loaded_dataset['tensor_y_tr']\n",
    "tensor_Cr01 = loaded_dataset['tensor_Cr01']\n",
    "tensor_Cr10 = loaded_dataset['tensor_Cr10']\n",
    "tensor_Cr11 = loaded_dataset['tensor_Cr11']\n",
    "tensor_Cr00 = loaded_dataset['tensor_Cr00']\n",
    "IR_tr = loaded_dataset['IR_tr']\n",
    "\n",
    "prob_0_tr = len(numpy.where(tensor_y_tr == -1)[0])\n",
    "prob_1_tr = len(numpy.where(tensor_y_tr ==  1)[0])\n",
    "\n",
    "pos0tr = tensor_y_tr == -1\n",
    "d0tr = tensor_Cr10.detach().numpy() - tensor_Cr00.detach().numpy()\n",
    "d1tr = tensor_Cr01.detach().numpy() - tensor_Cr11.detach().numpy()\n",
    "a1tr = numpy.mean(d1tr[~pos0tr])\n",
    "a0tr = numpy.mean(d0tr[pos0tr])\n",
    "sobrecoste_tr = numpy.mean(d1tr[~pos0tr]) / numpy.mean(d0tr[pos0tr]) \n",
    "\n",
    "ir_train = prob_0_tr/prob_1_tr\n",
    "ir_coste_tr = 1/sobrecoste_tr\n",
    "norm_cost_inTrain = a0tr/a1tr\n",
    "ir_total_tr    = ir_train * (ir_coste_tr/norm_cost_inTrain)\n",
    "#####################"
   ]
  },
  {
   "cell_type": "markdown",
   "metadata": {},
   "source": [
    "## Section 3. CMLP Method"
   ]
  },
  {
   "cell_type": "code",
   "execution_count": 13,
   "metadata": {},
   "outputs": [
    {
     "name": "stdout",
     "output_type": "stream",
     "text": [
      "\n",
      "\t-- Training Params --\n",
      "n_neurons   7\n",
      "epochs      17\n",
      "batch_size  20\n",
      "lr          0.0005\n",
      "momentum    0.6\n",
      "centered    False\n",
      "n_runs      1\n",
      "rebalance   4\n"
     ]
    }
   ],
   "source": [
    "#### Experiment params ####\n",
    "plot_fronterier = True\n",
    "plot_training = True\n",
    "number_of_runs = 1\n",
    "###########################\n",
    "\n",
    "#### WR-CMLP params ####\n",
    "batch_size = 20\n",
    "epochs = 17\n",
    "lr = 0.0005\n",
    "momentum = 0.6\n",
    "centered = False\n",
    "n_neurons = 7\n",
    "rebalance = 4\n",
    "########################\n",
    "\n",
    "###### Print Variables ######\n",
    "print()\n",
    "print('\\t-- Training Params --')\n",
    "print('n_neurons  ', n_neurons)\n",
    "print('epochs     ', epochs)\n",
    "print('batch_size ', batch_size)\n",
    "print('lr         ', lr)\n",
    "print('momentum   ', momentum)\n",
    "print('centered   ', centered)\n",
    "print('n_runs     ', number_of_runs)\n",
    "print('rebalance  ', rebalance)\n",
    "#############################"
   ]
  },
  {
   "cell_type": "markdown",
   "metadata": {},
   "source": [
    "#### Section 3.1 Training CMLP Method"
   ]
  },
  {
   "cell_type": "code",
   "execution_count": 14,
   "metadata": {},
   "outputs": [
    {
     "name": "stdout",
     "output_type": "stream",
     "text": [
      "[INFO]: Run = 1 / 1\n",
      "[INFO]: Training\n"
     ]
    },
    {
     "name": "stderr",
     "output_type": "stream",
     "text": [
      "100%|██████████| 17/17 [00:29<00:00,  1.71s/it]\n",
      "c:\\Users\\javim\\Desktop\\INVESTIGACION\\OneStep\\Repo_git_en_construccion\\src\\..\\src\\WR_CMLP_model.py:359: UserWarning: Matplotlib is currently using module://matplotlib_inline.backend_inline, which is a non-GUI backend, so cannot show the figure.\n",
      "  fig.show()\n"
     ]
    },
    {
     "name": "stdout",
     "output_type": "stream",
     "text": [
      "[INFO]: Total execution time -> 0.49 mins\n",
      "\n",
      "___________________________________________________________\n",
      "Final results Train\n",
      "\t accuracy     -> 0.49 std 0.0\n",
      "\t Savings      -> 32.77 std 0.0\n",
      "\t Cost         -> 1567762.85 std 0.0\n",
      "\n",
      "\n",
      "Final results Test\n",
      "\t accuracy     -> 0.47 std 0.0\n",
      "\t Savings      -> 31.12 std 0.0\n",
      "\t Cost         -> 541056.4 std 0.0\n",
      "___________________________________________________________\n",
      "[INFO]: End\n"
     ]
    },
    {
     "data": {
      "image/png": "[encoded data removed]",
      "text/plain": [
       "<Figure size 800x400 with 2 Axes>"
      ]
     },
     "metadata": {},
     "output_type": "display_data"
    }
   ],
   "source": [
    "coste_final_tr = []\n",
    "saving_final_tr = []\n",
    "acc_final_step_tr = []\n",
    "coste_final_ts = []\n",
    "saving_final_ts = []\n",
    "acc_final_step_ts = []\n",
    "\n",
    "init_time = time.time()\n",
    "for ii_run in range(number_of_runs):\n",
    "\n",
    "    print(f\"[INFO]: Run = {ii_run + 1} / {number_of_runs}\")\n",
    "\n",
    "    ## MODEL ##\n",
    "    model_wr_cmlp = None\n",
    "    model_wr_cmlp = WR_CMLP_model(input_size=len(tensor_x_tr[1,:]), hidden_size=n_neurons)\n",
    "    ###########\n",
    "\n",
    "    ## Optimizer ##\n",
    "    RMSprop_optim = torch.optim.RMSprop(model_wr_cmlp.parameters(), lr=lr, momentum=momentum, centered=centered)\n",
    "    ###############\n",
    "\n",
    "    ## Loss function ##\n",
    "    loss = model_wr_cmlp.weighted_cost_norm_mse_loss\n",
    "    ###################\n",
    "\n",
    "    ## Training ##\n",
    "    print(f\"[INFO]: Training\")\n",
    "    results_training = model_wr_cmlp.train_discriminator(optimizer=RMSprop_optim,\n",
    "                                                         criterion=loss,\n",
    "                                                         num_epochs=epochs,\n",
    "                                                         batch_size=batch_size,\n",
    "                                                         inputs_train=tensor_x_tr,\n",
    "                                                         labels_train=tensor_y_tr,\n",
    "                                                         inputs_test=tensor_x_ts,\n",
    "                                                         labels_test=tensor_y_ts,\n",
    "                                                         cr01=tensor_Cr01,\n",
    "                                                         cr10=tensor_Cr10,\n",
    "                                                         cr00=tensor_Cr00,\n",
    "                                                         cr11=tensor_Cr11,\n",
    "                                                         cs01=tensor_Cs01,\n",
    "                                                         cs10=tensor_Cs10,\n",
    "                                                         cs00=tensor_Cs00,\n",
    "                                                         cs11=tensor_Cs11,\n",
    "                                                         ir_objetive=ir_total_tr/rebalance,\n",
    "                                                         ir_original=ir_total_tr,\n",
    "                                                         figure=plot_training,\n",
    "                                                         metrics=True,\n",
    "                                                         )\n",
    "\n",
    "    loss_tr_onFly = results_training['loss_train']\n",
    "    loss_ts__onFly = results_training['loss_test']\n",
    "    saving_tr_onFly = results_training['saving_train']\n",
    "    saving_ts_onFly = results_training['saving_test']\n",
    "    ##############\n",
    "\n",
    "    ######## Metrics ########\n",
    "    results_tr = model_wr_cmlp.metrics(x_input=tensor_x_tr,\n",
    "                                       target_class=tensor_y_tr,\n",
    "                                       c01=tensor_Cr01,\n",
    "                                       c10=tensor_Cr10,\n",
    "                                       rebalance=rebalance)\n",
    "    coste_final_tr.append(results_tr['coste_final'])\n",
    "    saving_final_tr.append(results_tr['saving_final'])\n",
    "    acc_final_step_tr.append(results_tr['accuracy'])\n",
    "\n",
    "    results_ts = model_wr_cmlp.metrics(x_input=tensor_x_ts,\n",
    "                                       target_class=tensor_y_ts,\n",
    "                                       c01=tensor_Cs01,\n",
    "                                       c10=tensor_Cs10,\n",
    "                                       rebalance=rebalance)\n",
    "    coste_final_ts.append(results_ts['coste_final'])\n",
    "    saving_final_ts.append(results_ts['saving_final'])\n",
    "    acc_final_step_ts.append(results_ts['accuracy'])\n",
    "    #########################\n",
    "\n",
    "\n",
    "end_time = time.time()\n",
    "print(f'[INFO]: Total execution time -> {numpy.round((end_time-init_time)/60, 2)} mins', )\n",
    "\n",
    "print()\n",
    "print('___________________________________________________________')\n",
    "print('Final results Train')\n",
    "print(f'\\t accuracy     -> {numpy.round(numpy.mean(acc_final_step_tr), 2)} std {numpy.round(numpy.std(acc_final_step_tr), 2)}')\n",
    "print(f'\\t Savings      -> {numpy.round(numpy.mean(saving_final_tr) * 100, 2)} std {numpy.round(numpy.std(saving_final_tr) * 100, 2)}')\n",
    "print(f'\\t Cost         -> {numpy.round(numpy.mean(coste_final_tr), 2)} std {numpy.round(numpy.std(coste_final_tr), 2)}')\n",
    "\n",
    "print()\n",
    "print()\n",
    "print('Final results Test')\n",
    "print(f'\\t accuracy     -> {numpy.round(numpy.mean(acc_final_step_ts), 2)} std {numpy.round(numpy.std(acc_final_step_ts), 2)}')\n",
    "print(f'\\t Savings      -> {numpy.round(numpy.mean(saving_final_ts) * 100, 2)} std {numpy.round(numpy.std(saving_final_ts) * 100, 2)}')\n",
    "print(f'\\t Cost         -> {numpy.round(numpy.mean(coste_final_ts), 2)} std {numpy.round(numpy.std(coste_final_ts), 2)}')\n",
    "print('___________________________________________________________')\n",
    "\n",
    "print(f'[INFO]: End', )"
   ]
  },
  {
   "cell_type": "markdown",
   "metadata": {},
   "source": [
    "#### Section 3.1 Compute model output with CMLP Method"
   ]
  },
  {
   "cell_type": "code",
   "execution_count": 15,
   "metadata": {},
   "outputs": [
    {
     "data": {
      "text/plain": [
       "array([ 0.6128361 ,  0.7739282 ,  0.31824738, ...,  0.25818166,\n",
       "        0.9340976 , -0.05612026], dtype=float32)"
      ]
     },
     "execution_count": 15,
     "metadata": {},
     "output_type": "execute_result"
    }
   ],
   "source": [
    "output_train = model_wr_cmlp.forward(tensor_x_tr.float()) # Outputs of the NN model, but not deccions\n",
    "output_train_numpy = output_train.detach().flatten().numpy()\n",
    "output_train_numpy"
   ]
  },
  {
   "cell_type": "markdown",
   "metadata": {},
   "source": [
    "#### Section 3.1 Predict the class with CMLP Method"
   ]
  },
  {
   "cell_type": "code",
   "execution_count": 16,
   "metadata": {},
   "outputs": [
    {
     "data": {
      "text/plain": [
       "array([ 1.,  1.,  1., ..., -1.,  1., -1.])"
      ]
     },
     "execution_count": 16,
     "metadata": {},
     "output_type": "execute_result"
    }
   ],
   "source": [
    "ir_objetive = ir_train / rebalance\n",
    "y_pred_train = model_wr_cmlp.predict_class(output_train, q_neutral=ir_train/ir_objetive) # Costs Decissions in [-1, +1]\n",
    "y_pred_train_numpy = y_pred_train.detach().flatten().numpy()\n",
    "y_pred_train_numpy"
   ]
  },
  {
   "cell_type": "code",
   "execution_count": null,
   "metadata": {},
   "outputs": [],
   "source": []
  }
 ],
 "metadata": {
  "kernelspec": {
   "display_name": "Python 3",
   "language": "python",
   "name": "python3"
  },
  "language_info": {
   "codemirror_mode": {
    "name": "ipython",
    "version": 3
   },
   "file_extension": ".py",
   "mimetype": "text/x-python",
   "name": "python",
   "nbconvert_exporter": "python",
   "pygments_lexer": "ipython3",
   "version": "3.8.13"
  }
 },
 "nbformat": 4,
 "nbformat_minor": 2
}
